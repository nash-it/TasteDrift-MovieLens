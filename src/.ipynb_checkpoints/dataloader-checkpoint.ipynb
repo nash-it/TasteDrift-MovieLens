{
 "cells": [
  {
   "cell_type": "code",
   "execution_count": 2,
   "id": "30566689",
   "metadata": {},
   "outputs": [],
   "source": [
    "#src/data_loader.py\n",
    "import logging\n",
    "from pathlib import Path\n",
    "import pandas as pd\n",
    "from io import BytesIO\n",
    "import logging\n",
    "\n",
    "def fetch_and_prepare_movielens_1m(data_folder = \"/Users/gnaneshreddysaireddy/Documents/TasteDrift-MovieLens/data/raw/ml-1m\", allow_download = False) -> pd.DataFrame:\n",
    "    \n",
    "    logging.info (\"Starting load of MovieLeses 1M from local folder...\")\n",
    "    \n",
    "    data_folder = Path(data_folder)\n",
    "    ratings_path = data_folder / \"ratings.dat\"\n",
    "    movies_path = data_folder / \"movies.dat\"\n",
    "    \n",
    "    #check files exist\n",
    "    \n",
    "    if not ratings_path.exists() or not movies_path.exists():\n",
    "        raise FileNotFoundError(\n",
    "                    f\"Missing required files in {data_folder}. please manually download and extract MovieLnes 1M \"\n",
    "                    \"from https://grouplense.org/datasets/movieslens/1m/\"\n",
    "        )\n",
    "        \n",
    "    ratings = pd.read_csv(ratings_path, sep = \"::\", engine = \"python\",\n",
    "                              names = [\"user_id\", \"movie_id\",\"rating\",\"timestamp\"],encoding=\"latin-1\")\n",
    "    movies = pd.read_csv(movies_path, sep = \"::\", engine = \"python\",\n",
    "                            names = [\"movie_id\",\"title\", \"genres\"],encoding=\"latin-1\")\n",
    "    \n",
    "    ratings[\"datetime\"] = pd.to_datetime(ratings[\"timestamp\"], unit = 's')\n",
    "        \n",
    "    df = ratings.merge(movies, on=\"movie_id\")\n",
    "    logging.info(f\"Loaded dataset: {df.shape[0]:,} rows, {df['user_id'].nunique()} users.\")\n",
    "        \n",
    "        \n",
    "    return df\n",
    "                     \n",
    "   "
   ]
  }
 ],
 "metadata": {
  "kernelspec": {
   "display_name": "Python 3 (ipykernel)",
   "language": "python",
   "name": "python3"
  },
  "language_info": {
   "codemirror_mode": {
    "name": "ipython",
    "version": 3
   },
   "file_extension": ".py",
   "mimetype": "text/x-python",
   "name": "python",
   "nbconvert_exporter": "python",
   "pygments_lexer": "ipython3",
   "version": "3.11.5"
  }
 },
 "nbformat": 4,
 "nbformat_minor": 5
}

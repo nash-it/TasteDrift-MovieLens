{
 "cells": [
  {
   "cell_type": "code",
   "execution_count": 1,
   "id": "e5327d6b",
   "metadata": {},
   "outputs": [],
   "source": [
    "import pandas as pd\n",
    "from pathlib import Path\n",
    "import sys\n",
    "import logging"
   ]
  },
  {
   "cell_type": "code",
   "execution_count": 2,
   "id": "7928107e",
   "metadata": {},
   "outputs": [
    {
     "name": "stdout",
     "output_type": "stream",
     "text": [
      "/Users/gnaneshreddysaireddy/TasteDrift-MovieLens\n"
     ]
    }
   ],
   "source": [
    "# Set project root\n",
    "project_root = Path.cwd().parent\n",
    "if str(project_root) not in sys.path:\n",
    "    sys.path.append(str(project_root))\n",
    "print(project_root)"
   ]
  },
  {
   "cell_type": "code",
   "execution_count": 6,
   "id": "fc233618",
   "metadata": {},
   "outputs": [
    {
     "data": {
      "text/plain": [
       "['user_clusters.csv', 'ratings_with_time_split.zip', 'user_taste_vectors.csv']"
      ]
     },
     "execution_count": 6,
     "metadata": {},
     "output_type": "execute_result"
    }
   ],
   "source": [
    "import os\n",
    "\n",
    "os.listdir(project_root/\"data/processed/\")\n"
   ]
  },
  {
   "cell_type": "code",
   "execution_count": 7,
   "id": "f8dd3c06",
   "metadata": {
    "scrolled": true
   },
   "outputs": [
    {
     "name": "stderr",
     "output_type": "stream",
     "text": [
      "2025-07-31 15:32:21,694 - INFO - Loaded processed data: 1000209 rows\n"
     ]
    },
    {
     "name": "stdout",
     "output_type": "stream",
     "text": [
      "✅ Loaded from ZIP: 1,000,209 rows\n"
     ]
    },
    {
     "name": "stderr",
     "output_type": "stream",
     "text": [
      "2025-07-31 15:32:23,590 - INFO - Created user-genre matrix: 12080 users x 301 genres\n",
      "2025-07-31 15:32:24,102 - INFO - Saved user taste vectors to: /Users/gnaneshreddysaireddy/TasteDrift-MovieLens/data/processed/user_taste_vectors.csv\n"
     ]
    }
   ],
   "source": [
    "# Configure logging\n",
    "log_dir = project_root / \"logs\"\n",
    "log_dir.mkdir(exist_ok=True)\n",
    "log_file = log_dir / \"feature_engineering.log\"\n",
    "logging.basicConfig(\n",
    "    level=logging.INFO,\n",
    "    format=\"%(asctime)s - %(levelname)s - %(message)s\",\n",
    "    handlers=[\n",
    "        logging.FileHandler(log_file),\n",
    "        logging.StreamHandler()\n",
    "    ]\n",
    ")\n",
    "logger = logging.getLogger(__name__)\n",
    "\n",
    "# Load processed data from Notebook 1\n",
    "# data_path = project_root / \"data/processed/ratings_with_time_split.zip\"\n",
    "# df = pd.read_csv(data_path, parse_dates=['datetime'])\n",
    "import zipfile\n",
    "import pandas as pd\n",
    "\n",
    "zip_path = project_root/ \"data/processed/ratings_with_time_split.zip\"\n",
    "\n",
    "with zipfile.ZipFile(zip_path, \"r\") as z:\n",
    "    with z.open(\"ratings_with_time_split.csv\") as f:\n",
    "        df = pd.read_csv(f)\n",
    "\n",
    "print(f\"✅ Loaded from ZIP: {df.shape[0]:,} rows\")\n",
    "\n",
    "logger.info(f\"Loaded processed data: {df.shape[0]} rows\")\n",
    "# Genre vector creation (user x genre matrix)\n",
    "df['genres'] = df['genres'].apply(lambda g: g.split('|') if isinstance(g, str) else g)\n",
    "df_exploded = df.explode('genres')\n",
    "\n",
    "# Time bucket assignment\n",
    "df_exploded['bucket'] = df_exploded['time_split']\n",
    "\n",
    "grouped = df_exploded.groupby(['user_id', 'bucket', 'genres']).size().unstack(fill_value=0)\n",
    "logger.info(f\"Created user-genre matrix: {grouped.shape[0]} users x {grouped.shape[1]} genres\")\n",
    "\n",
    "# Save output for modeling\n",
    "output_path = project_root / \"data/processed/user_taste_vectors.csv\"\n",
    "output_path.parent.mkdir(parents=True, exist_ok=True)\n",
    "grouped.to_csv(output_path)\n",
    "logger.info(f\"Saved user taste vectors to: {output_path}\")"
   ]
  }
 ],
 "metadata": {
  "kernelspec": {
   "display_name": "Python 3 (ipykernel)",
   "language": "python",
   "name": "python3"
  },
  "language_info": {
   "codemirror_mode": {
    "name": "ipython",
    "version": 3
   },
   "file_extension": ".py",
   "mimetype": "text/x-python",
   "name": "python",
   "nbconvert_exporter": "python",
   "pygments_lexer": "ipython3",
   "version": "3.11.5"
  }
 },
 "nbformat": 4,
 "nbformat_minor": 5
}
